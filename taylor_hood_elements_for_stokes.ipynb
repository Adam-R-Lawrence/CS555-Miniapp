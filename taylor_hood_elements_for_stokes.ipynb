{
 "cells": [
  {
   "metadata": {},
   "cell_type": "markdown",
   "source": [
    "# Taylor-Hood elements for Stokes\n",
    "\n",
    "This miniapp demonstrates a FEM implementation of the incompressible Stokes equations:\n",
    "\n",
    "\n",
    "\\begin{aligned}\n",
    "\\frac{\\partial \\mathbf{u}}{\\partial t} - \\nu \\nabla^2 \\mathbf{u} + \\nabla p &= 0 \\quad \\text{in } \\Omega, \\\\\n",
    "\\nabla \\cdot \\mathbf{u} &= 0 \\quad \\text{in } \\Omega,\n",
    "\\end{aligned}\n",
    "\n",
    "\n",
    "---\n",
    "\n",
    "- Uses **Taylor–Hood elements** for mixed finite element formulation.\n",
    "- **P2–P1** elements:\n",
    "  - Velocity: Continuous piecewise **quadratic** functions ($\\mathbb{P}_2$)\n",
    "  - Pressure: Continuous piecewise **linear** functions ($\\mathbb{P}_1$)\n",
    "\n",
    "---"
   ],
   "id": "7f8672c88dcbb4e0"
  },
  {
   "cell_type": "code",
   "execution_count": null,
   "id": "initial_id",
   "metadata": {
    "collapsed": true
   },
   "outputs": [],
   "source": [
    "# Import Libraries (Only numpy, matplotlib and scipy are allowed)\n",
    "import numpy as np\n",
    "\n",
    "import matplotlib.pyplot as plt\n",
    "import matplotlib.tri as tri\n",
    "import matplotlib.animation as animation\n",
    "\n",
    "from scipy.spatial import Delaunay\n",
    "from scipy.sparse import coo_matrix\n",
    "from scipy.sparse.linalg import spsolve\n",
    "from scipy.interpolate import griddata\n"
   ]
  }
 ],
 "metadata": {
  "kernelspec": {
   "display_name": "Python 3",
   "language": "python",
   "name": "python3"
  },
  "language_info": {
   "codemirror_mode": {
    "name": "ipython",
    "version": 2
   },
   "file_extension": ".py",
   "mimetype": "text/x-python",
   "name": "python",
   "nbconvert_exporter": "python",
   "pygments_lexer": "ipython2",
   "version": "2.7.6"
  }
 },
 "nbformat": 4,
 "nbformat_minor": 5
}
